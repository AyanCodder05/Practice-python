{
 "cells": [
  {
   "cell_type": "code",
   "execution_count": 1,
   "id": "965f1a89-c462-496e-96f1-05803ac8be69",
   "metadata": {},
   "outputs": [],
   "source": [
    "import numpy as np"
   ]
  },
  {
   "cell_type": "code",
   "execution_count": 6,
   "id": "83723bc9-9a1c-4818-9cbe-9da62ded2808",
   "metadata": {},
   "outputs": [
    {
     "name": "stdout",
     "output_type": "stream",
     "text": [
      "[[ 0  1  2  3  4]\n",
      " [ 5  6  7  8  9]\n",
      " [10 11 12 13 14]\n",
      " [15 16 17 18 19]\n",
      " [20 21 22 23 24]]\n"
     ]
    }
   ],
   "source": [
    "a=np.arange(25).reshape(5,5)\n",
    "print(a)"
   ]
  },
  {
   "cell_type": "code",
   "execution_count": 13,
   "id": "622c5030-f86d-41ed-9154-3c0864ae7fe6",
   "metadata": {},
   "outputs": [
    {
     "name": "stdout",
     "output_type": "stream",
     "text": [
      "[[5 5 5 5 5 5 5 5 5 5]\n",
      " [5 5 5 5 5 5 5 5 5 5]\n",
      " [5 5 5 5 5 5 5 5 5 5]\n",
      " [5 5 5 5 5 5 5 5 5 5]\n",
      " [5 5 5 5 5 5 5 5 5 5]\n",
      " [5 5 5 5 5 5 5 5 5 5]\n",
      " [5 5 5 5 5 5 5 5 5 5]\n",
      " [5 5 5 5 5 5 5 5 5 5]\n",
      " [5 5 5 5 5 5 5 5 5 5]\n",
      " [5 5 5 5 5 5 5 5 5 5]]\n"
     ]
    }
   ],
   "source": [
    "n=np.full((10,10),5)\n",
    "print(n)"
   ]
  },
  {
   "cell_type": "code",
   "execution_count": 14,
   "id": "a0a4c18e-395a-4c55-897c-9eef69ac898a",
   "metadata": {},
   "outputs": [
    {
     "name": "stdout",
     "output_type": "stream",
     "text": [
      "[[7 7 7]\n",
      " [7 7 7]]\n"
     ]
    }
   ],
   "source": [
    "x=np.array([[1,2,3],[4,5,6]])\n",
    "y=np.array([[6,5,4],[3,2,1]])\n",
    "z=x+y\n",
    "print(z)"
   ]
  },
  {
   "cell_type": "code",
   "execution_count": 2,
   "id": "531ab352-6242-4313-be46-835f2804fda9",
   "metadata": {},
   "outputs": [
    {
     "name": "stdout",
     "output_type": "stream",
     "text": [
      "[array([1, 2, 3]), array([4, 5, 6]), array([7, 8, 9])]\n"
     ]
    }
   ],
   "source": [
    "arr=np.array([1,2,3,4,5,6,7,8,9])\n",
    "split=np.split(arr,3)\n",
    "print(split)"
   ]
  },
  {
   "cell_type": "code",
   "execution_count": 3,
   "id": "a2bae814-e785-4fbb-87c8-cb6950058805",
   "metadata": {},
   "outputs": [
    {
     "name": "stdout",
     "output_type": "stream",
     "text": [
      "[0.         0.01010101 0.02020202 0.03030303 0.04040404 0.05050505\n",
      " 0.06060606 0.07070707 0.08080808 0.09090909 0.1010101  0.11111111\n",
      " 0.12121212 0.13131313 0.14141414 0.15151515 0.16161616 0.17171717\n",
      " 0.18181818 0.19191919 0.2020202  0.21212121 0.22222222 0.23232323\n",
      " 0.24242424 0.25252525 0.26262626 0.27272727 0.28282828 0.29292929\n",
      " 0.3030303  0.31313131 0.32323232 0.33333333 0.34343434 0.35353535\n",
      " 0.36363636 0.37373737 0.38383838 0.39393939 0.4040404  0.41414141\n",
      " 0.42424242 0.43434343 0.44444444 0.45454545 0.46464646 0.47474747\n",
      " 0.48484848 0.49494949 0.50505051 0.51515152 0.52525253 0.53535354\n",
      " 0.54545455 0.55555556 0.56565657 0.57575758 0.58585859 0.5959596\n",
      " 0.60606061 0.61616162 0.62626263 0.63636364 0.64646465 0.65656566\n",
      " 0.66666667 0.67676768 0.68686869 0.6969697  0.70707071 0.71717172\n",
      " 0.72727273 0.73737374 0.74747475 0.75757576 0.76767677 0.77777778\n",
      " 0.78787879 0.7979798  0.80808081 0.81818182 0.82828283 0.83838384\n",
      " 0.84848485 0.85858586 0.86868687 0.87878788 0.88888889 0.8989899\n",
      " 0.90909091 0.91919192 0.92929293 0.93939394 0.94949495 0.95959596\n",
      " 0.96969697 0.97979798 0.98989899 1.        ]\n"
     ]
    }
   ],
   "source": [
    "ar=np.linspace(0,1,100)\n",
    "print(ar)"
   ]
  },
  {
   "cell_type": "code",
   "execution_count": 5,
   "id": "505455c1-f51d-40fe-820e-887f2ca133c7",
   "metadata": {},
   "outputs": [
    {
     "name": "stdout",
     "output_type": "stream",
     "text": [
      "[0.    0.125 0.25  0.375 0.5   0.625 0.75  0.875 1.   ]\n"
     ]
    }
   ],
   "source": [
    "x=np.linspace(0,1,9)\n",
    "print(x)"
   ]
  },
  {
   "cell_type": "code",
   "execution_count": 18,
   "id": "eb9e16e6-3f98-4979-99b0-5af4a1c1cf86",
   "metadata": {},
   "outputs": [
    {
     "name": "stdout",
     "output_type": "stream",
     "text": [
      "[0 1 0 ... 0 0 0]\n",
      "Head:  24634769\n",
      "Tail:  25360231\n"
     ]
    }
   ],
   "source": [
    "#With logic:\n",
    "\n",
    "toss=np.random.randint(0,2,10000)\n",
    "print(toss)\n",
    "head=0\n",
    "tail=0\n",
    "\n",
    "for i in range(len(toss)):\n",
    "    if toss[i]==1:\n",
    "        head+=i\n",
    "    else:\n",
    "        tail+=i\n",
    "print(\"Head: \",head)\n",
    "print(\"Tail: \",tail)\n",
    "    "
   ]
  },
  {
   "cell_type": "code",
   "execution_count": 22,
   "id": "df3ddaa0-7967-4b4e-9ae2-7e498f0ca707",
   "metadata": {},
   "outputs": [
    {
     "name": "stdout",
     "output_type": "stream",
     "text": [
      "Heads: 50178\n",
      "Tails: 49822\n"
     ]
    }
   ],
   "source": [
    "#Without logic:\n",
    "\n",
    "toss = np.random.randint(0, 2, 100000)\n",
    "head = np.sum(toss)\n",
    "tail = len(toss) - head\n",
    "\n",
    "print(\"Heads:\", head)\n",
    "print(\"Tails:\", tail)\n"
   ]
  },
  {
   "cell_type": "code",
   "execution_count": 28,
   "id": "545bd2ff-1c2c-4f28-bc1a-51cfb210cba2",
   "metadata": {},
   "outputs": [
    {
     "name": "stdout",
     "output_type": "stream",
     "text": [
      "[[[0.         0.03846154 0.07692308]\n",
      "  [0.11538462 0.15384615 0.19230769]\n",
      "  [0.23076923 0.26923077 0.30769231]]\n",
      "\n",
      " [[0.34615385 0.38461538 0.42307692]\n",
      "  [0.46153846 0.5        0.53846154]\n",
      "  [0.57692308 0.61538462 0.65384615]]\n",
      "\n",
      " [[0.69230769 0.73076923 0.76923077]\n",
      "  [0.80769231 0.84615385 0.88461538]\n",
      "  [0.92307692 0.96153846 1.        ]]]\n"
     ]
    }
   ],
   "source": [
    "arr=np.linspace(0,1,27).reshape(3,3,3)\n",
    "print(arr)"
   ]
  },
  {
   "cell_type": "code",
   "execution_count": 43,
   "id": "0adfdcbc-1842-4a85-8035-e9cd847633a4",
   "metadata": {},
   "outputs": [
    {
     "name": "stdout",
     "output_type": "stream",
     "text": [
      "[[ 4.          8.05263158  8.10526316  5.15789474  2.21052632]\n",
      " [ 1.26315789 10.31578947  4.36842105 10.42105263  7.47368421]\n",
      " [ 3.52631579  3.57894737  7.63157895  6.68421053  9.73684211]\n",
      " [ 9.78947368  4.84210526  4.89473684  8.94736842  3.        ]]\n"
     ]
    }
   ],
   "source": [
    "#Sum 2 Array:\n",
    "\n",
    "arr= np.arange(1,11)\n",
    "arr1=np.random.choice(arr,size=(4,5))\n",
    "num=np.linspace(0,1,20).reshape(4,5)\n",
    "print(arr1+num)"
   ]
  },
  {
   "cell_type": "code",
   "execution_count": null,
   "id": "39b76c4a-a9cd-4c47-afe6-a140e5a5f00f",
   "metadata": {},
   "outputs": [],
   "source": [
    "x=np.random"
   ]
  }
 ],
 "metadata": {
  "kernelspec": {
   "display_name": "Python 3 (ipykernel)",
   "language": "python",
   "name": "python3"
  },
  "language_info": {
   "codemirror_mode": {
    "name": "ipython",
    "version": 3
   },
   "file_extension": ".py",
   "mimetype": "text/x-python",
   "name": "python",
   "nbconvert_exporter": "python",
   "pygments_lexer": "ipython3",
   "version": "3.13.5"
  }
 },
 "nbformat": 4,
 "nbformat_minor": 5
}
