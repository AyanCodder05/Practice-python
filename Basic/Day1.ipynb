{
 "cells": [
  {
   "cell_type": "code",
   "execution_count": 4,
   "id": "bf32586a-bf0d-45f6-8592-8ac74105d14b",
   "metadata": {},
   "outputs": [
    {
     "name": "stdout",
     "output_type": "stream",
     "text": [
      "80.375\n",
      "8\n"
     ]
    }
   ],
   "source": [
    "#Given some data x=87, 91, 85, 75, 28, 155, 66,56 find the mean and rms value\n",
    "x=[87, 91, 85, 75, 28, 155, 66,56]\n",
    "import numpy as np\n",
    "a=np.mean(x)\n",
    "print(a)\n",
    "print(len(x))"
   ]
  },
  {
   "cell_type": "code",
   "execution_count": 7,
   "id": "df026bf9-5ccb-4c3f-8fa0-e90ac2e69013",
   "metadata": {},
   "outputs": [
    {
     "name": "stdout",
     "output_type": "stream",
     "text": [
      "[28, 56, 66, 75, 85, 87, 91, 155]\n"
     ]
    }
   ],
   "source": [
    "x.sort()\n",
    "print(x)"
   ]
  },
  {
   "cell_type": "code",
   "execution_count": 29,
   "id": "75f63991-5976-4f9f-bdad-46b7da5d31bc",
   "metadata": {},
   "outputs": [
    {
     "name": "stdout",
     "output_type": "stream",
     "text": [
      "Orginal number:\n",
      " [-10, -9, -1, 0.1, 0.9, 1, 2, 3, 4, 4.5, 5, 9.8, 10, 11, 14, 20, 22, 30, 48, 1000]\n",
      "numbers between 0 to 10: [0.1, 0.9, 1, 2, 3, 4, 4.5, 5, 9.8]\n"
     ]
    }
   ],
   "source": [
    "#Count how many  numbers are there between 0 to10\n",
    "num=[1,0.1,5,3,10,-1,4,20,1000,-9,2,14,4.5,0.9,30,9.8,11,22,48,-10]\n",
    "num.sort()\n",
    "print(\"Orginal number:\\n\",num)\n",
    "\n",
    "n=[num[i] for i in range(len(num)) if 0<num[i]<10]\n",
    "print(\"numbers between 0 to 10:\",n)\n",
    "        \n"
   ]
  },
  {
   "cell_type": "code",
   "execution_count": 37,
   "id": "d6e02b71-e996-4804-bd1e-8b7259449a2e",
   "metadata": {},
   "outputs": [
    {
     "name": "stdout",
     "output_type": "stream",
     "text": [
      "788657867364790503552363213932185062295135977687173263294742533244359449963403342920304284011984623904177212138919638830257642790242637105061926624952829931113462857270763317237396988943922445621451664240254033291864131227428294853277524242407573903240321257405579568660226031904170324062351700858796178922222789623703897374720000000000000000000000000000000000000000000000000\n"
     ]
    }
   ],
   "source": [
    "#Factorial without recursion\n",
    "def fact(n):\n",
    "    prod=1\n",
    "    for i in range(2,n+1):\n",
    "        prod*=i\n",
    "    return prod\n",
    "print(fact(200))"
   ]
  },
  {
   "cell_type": "code",
   "execution_count": 39,
   "id": "78183d51-0835-4a7a-b98e-005ce7c51edd",
   "metadata": {
    "scrolled": true
   },
   "outputs": [
    {
     "name": "stdout",
     "output_type": "stream",
     "text": [
      "788657867364790503552363213932185062295135977687173263294742533244359449963403342920304284011984623904177212138919638830257642790242637105061926624952829931113462857270763317237396988943922445621451664240254033291864131227428294853277524242407573903240321257405579568660226031904170324062351700858796178922222789623703897374720000000000000000000000000000000000000000000000000\n"
     ]
    }
   ],
   "source": [
    "#Factorial With recursion \n",
    "def fac(n):\n",
    "    if n==0 or n==1:\n",
    "        return 1\n",
    "    else:\n",
    "        n=fact(n)*fact(n-1)\n",
    "        return n\n",
    "print(fact(200))"
   ]
  },
  {
   "cell_type": "code",
   "execution_count": 14,
   "id": "575b99f7-e186-4536-8586-7481e742446f",
   "metadata": {},
   "outputs": [
    {
     "name": "stdout",
     "output_type": "stream",
     "text": [
      "250000\n"
     ]
    }
   ],
   "source": [
    "del sum\n",
    "x = sum([i for i in range(1,1001) if i % 2 != 0])\n",
    "print(x)\n"
   ]
  },
  {
   "cell_type": "code",
   "execution_count": 4,
   "id": "28fb3cb0-5fe5-44e0-a546-b3c5aa82334d",
   "metadata": {},
   "outputs": [
    {
     "name": "stdout",
     "output_type": "stream",
     "text": [
      "250000\n"
     ]
    }
   ],
   "source": [
    "for i in range(1,1001):\n",
    "    if i%2!=0:\n",
    "        sum+=i\n",
    "print(sum)"
   ]
  },
  {
   "cell_type": "code",
   "execution_count": 15,
   "id": "474929f7-d239-4e19-911b-a723dbd1b17b",
   "metadata": {},
   "outputs": [
    {
     "name": "stdout",
     "output_type": "stream",
     "text": [
      "25502500\n"
     ]
    }
   ],
   "source": [
    "x=sum([i**3 for i in range(1,101)])\n",
    "print(x)"
   ]
  },
  {
   "cell_type": "code",
   "execution_count": 29,
   "id": "f1a820f2-ebb0-4eda-bdd1-f52df497d720",
   "metadata": {},
   "outputs": [
    {
     "name": "stdout",
     "output_type": "stream",
     "text": [
      "f 13\n",
      "c\n"
     ]
    }
   ],
   "source": [
    "#Max and min using max function in dict\n",
    "dict={'a':10, 'b':-5, 'c':2, 'd':0.5, 'e':-1.5,'f':13}\n",
    "max_keys, max_value=max(dict.keys()),max(dict.values())\n",
    "print(max_keys, max_value)\n",
    "\n",
    "#Or\n",
    "d = {\"a\": 5, \"c\": 10, \"b\": 2}\n",
    "key_of_max_value = max(d, key=d.get)\n",
    "print(key_of_max_value)\n"
   ]
  },
  {
   "cell_type": "code",
   "execution_count": 33,
   "id": "e4581af2-e2ee-43be-a66f-fff409ca064b",
   "metadata": {},
   "outputs": [
    {
     "name": "stdout",
     "output_type": "stream",
     "text": [
      "f 13\n"
     ]
    }
   ],
   "source": [
    "#Max and min using max function in dict\n",
    "dict={'a':10, 'b':-5, 'c':2, 'd':0.5, 'e':-1.5,'f':13}\n",
    "keys=list(dict.keys())\n",
    "values=list(dict.values())\n",
    "max_key=keys[0]\n",
    "max_values=values[0]\n",
    "for i in keys[1:]:\n",
    "    i>max_keys\n",
    "    max_keys=i\n",
    "for i in values[1:]:\n",
    "    i>max_values\n",
    "    max_values=i\n",
    "print(max_keys, max_values)"
   ]
  },
  {
   "cell_type": "code",
   "execution_count": 34,
   "id": "5db5d6fa-a8b9-4cfd-b2de-8522e1517633",
   "metadata": {},
   "outputs": [
    {
     "name": "stdout",
     "output_type": "stream",
     "text": [
      "Max key = c\n",
      "Max value = 10\n",
      "Pair = ('c', 10)\n"
     ]
    }
   ],
   "source": [
    "d = {\"a\": 5, \"c\": 10, \"b\": 2}\n",
    "\n",
    "# take first pair as current max\n",
    "items = list(d.items())\n",
    "max_key, max_val = items[0]\n",
    "\n",
    "# loop manually\n",
    "for k, v in items[1:]:\n",
    "    if v > max_val:\n",
    "        max_val = v\n",
    "        max_key = k\n",
    "\n",
    "print(\"Max key =\", max_key)\n",
    "print(\"Max value =\", max_val)\n",
    "print(\"Pair =\", (max_key, max_val))\n"
   ]
  },
  {
   "cell_type": "code",
   "execution_count": null,
   "id": "307462d0-bfd6-476e-bcae-13cef22c81ac",
   "metadata": {},
   "outputs": [],
   "source": [
    "# Begin an empty list, insert 10 given numbers, one by one, inside a for loop. Print those numbers. Obtain the sum of square of those numbers.\n",
    "#Print the sum\n",
    "\n",
    "list=[]\n",
    "for i in range(1,11):\n",
    "    n=int(input(\"Enter Numbers:\"))\n",
    "    list.append(n)\n",
    "    print(list)\n",
    "sum=0\n",
    "for i in list:\n",
    "    sum+=i**2\n",
    "    \n",
    "print(sum)  "
   ]
  }
 ],
 "metadata": {
  "kernelspec": {
   "display_name": "Python 3 (ipykernel)",
   "language": "python",
   "name": "python3"
  },
  "language_info": {
   "codemirror_mode": {
    "name": "ipython",
    "version": 3
   },
   "file_extension": ".py",
   "mimetype": "text/x-python",
   "name": "python",
   "nbconvert_exporter": "python",
   "pygments_lexer": "ipython3",
   "version": "3.13.5"
  }
 },
 "nbformat": 4,
 "nbformat_minor": 5
}
